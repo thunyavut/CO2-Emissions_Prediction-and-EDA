{
 "cells": [
  {
   "cell_type": "code",
   "execution_count": 1,
   "id": "82c7280d",
   "metadata": {},
   "outputs": [
    {
     "data": {
      "text/html": [
       "<div>\n",
       "<style scoped>\n",
       "    .dataframe tbody tr th:only-of-type {\n",
       "        vertical-align: middle;\n",
       "    }\n",
       "\n",
       "    .dataframe tbody tr th {\n",
       "        vertical-align: top;\n",
       "    }\n",
       "\n",
       "    .dataframe thead th {\n",
       "        text-align: right;\n",
       "    }\n",
       "</style>\n",
       "<table border=\"1\" class=\"dataframe\">\n",
       "  <thead>\n",
       "    <tr style=\"text-align: right;\">\n",
       "      <th></th>\n",
       "      <th>Country</th>\n",
       "      <th>ISO 3166-1 alpha-3</th>\n",
       "      <th>Year</th>\n",
       "      <th>Total</th>\n",
       "      <th>Coal</th>\n",
       "      <th>Oil</th>\n",
       "      <th>Gas</th>\n",
       "      <th>Cement</th>\n",
       "      <th>Flaring</th>\n",
       "      <th>Other</th>\n",
       "      <th>Per Capita</th>\n",
       "    </tr>\n",
       "  </thead>\n",
       "  <tbody>\n",
       "    <tr>\n",
       "      <th>0</th>\n",
       "      <td>Afghanistan</td>\n",
       "      <td>AFG</td>\n",
       "      <td>1750</td>\n",
       "      <td>0.000000</td>\n",
       "      <td>NaN</td>\n",
       "      <td>NaN</td>\n",
       "      <td>NaN</td>\n",
       "      <td>NaN</td>\n",
       "      <td>NaN</td>\n",
       "      <td>NaN</td>\n",
       "      <td>NaN</td>\n",
       "    </tr>\n",
       "    <tr>\n",
       "      <th>1</th>\n",
       "      <td>Afghanistan</td>\n",
       "      <td>AFG</td>\n",
       "      <td>1751</td>\n",
       "      <td>0.000000</td>\n",
       "      <td>NaN</td>\n",
       "      <td>NaN</td>\n",
       "      <td>NaN</td>\n",
       "      <td>NaN</td>\n",
       "      <td>NaN</td>\n",
       "      <td>NaN</td>\n",
       "      <td>NaN</td>\n",
       "    </tr>\n",
       "    <tr>\n",
       "      <th>2</th>\n",
       "      <td>Afghanistan</td>\n",
       "      <td>AFG</td>\n",
       "      <td>1752</td>\n",
       "      <td>0.000000</td>\n",
       "      <td>NaN</td>\n",
       "      <td>NaN</td>\n",
       "      <td>NaN</td>\n",
       "      <td>NaN</td>\n",
       "      <td>NaN</td>\n",
       "      <td>NaN</td>\n",
       "      <td>NaN</td>\n",
       "    </tr>\n",
       "    <tr>\n",
       "      <th>3</th>\n",
       "      <td>Afghanistan</td>\n",
       "      <td>AFG</td>\n",
       "      <td>1753</td>\n",
       "      <td>0.000000</td>\n",
       "      <td>NaN</td>\n",
       "      <td>NaN</td>\n",
       "      <td>NaN</td>\n",
       "      <td>NaN</td>\n",
       "      <td>NaN</td>\n",
       "      <td>NaN</td>\n",
       "      <td>NaN</td>\n",
       "    </tr>\n",
       "    <tr>\n",
       "      <th>4</th>\n",
       "      <td>Afghanistan</td>\n",
       "      <td>AFG</td>\n",
       "      <td>1754</td>\n",
       "      <td>0.000000</td>\n",
       "      <td>NaN</td>\n",
       "      <td>NaN</td>\n",
       "      <td>NaN</td>\n",
       "      <td>NaN</td>\n",
       "      <td>NaN</td>\n",
       "      <td>NaN</td>\n",
       "      <td>NaN</td>\n",
       "    </tr>\n",
       "    <tr>\n",
       "      <th>...</th>\n",
       "      <td>...</td>\n",
       "      <td>...</td>\n",
       "      <td>...</td>\n",
       "      <td>...</td>\n",
       "      <td>...</td>\n",
       "      <td>...</td>\n",
       "      <td>...</td>\n",
       "      <td>...</td>\n",
       "      <td>...</td>\n",
       "      <td>...</td>\n",
       "      <td>...</td>\n",
       "    </tr>\n",
       "    <tr>\n",
       "      <th>63099</th>\n",
       "      <td>Global</td>\n",
       "      <td>WLD</td>\n",
       "      <td>2017</td>\n",
       "      <td>36096.739276</td>\n",
       "      <td>14506.973805</td>\n",
       "      <td>12242.627935</td>\n",
       "      <td>7144.928128</td>\n",
       "      <td>1507.923185</td>\n",
       "      <td>391.992176</td>\n",
       "      <td>302.294047</td>\n",
       "      <td>4.749682</td>\n",
       "    </tr>\n",
       "    <tr>\n",
       "      <th>63100</th>\n",
       "      <td>Global</td>\n",
       "      <td>WLD</td>\n",
       "      <td>2018</td>\n",
       "      <td>36826.506600</td>\n",
       "      <td>14746.830688</td>\n",
       "      <td>12266.016285</td>\n",
       "      <td>7529.846784</td>\n",
       "      <td>1569.218392</td>\n",
       "      <td>412.115746</td>\n",
       "      <td>302.478706</td>\n",
       "      <td>4.792753</td>\n",
       "    </tr>\n",
       "    <tr>\n",
       "      <th>63101</th>\n",
       "      <td>Global</td>\n",
       "      <td>WLD</td>\n",
       "      <td>2019</td>\n",
       "      <td>37082.558969</td>\n",
       "      <td>14725.978025</td>\n",
       "      <td>12345.653374</td>\n",
       "      <td>7647.528220</td>\n",
       "      <td>1617.506786</td>\n",
       "      <td>439.253991</td>\n",
       "      <td>306.638573</td>\n",
       "      <td>4.775633</td>\n",
       "    </tr>\n",
       "    <tr>\n",
       "      <th>63102</th>\n",
       "      <td>Global</td>\n",
       "      <td>WLD</td>\n",
       "      <td>2020</td>\n",
       "      <td>35264.085734</td>\n",
       "      <td>14174.564010</td>\n",
       "      <td>11191.808551</td>\n",
       "      <td>7556.290283</td>\n",
       "      <td>1637.537532</td>\n",
       "      <td>407.583673</td>\n",
       "      <td>296.301685</td>\n",
       "      <td>4.497423</td>\n",
       "    </tr>\n",
       "    <tr>\n",
       "      <th>63103</th>\n",
       "      <td>Global</td>\n",
       "      <td>WLD</td>\n",
       "      <td>2021</td>\n",
       "      <td>37123.850352</td>\n",
       "      <td>14979.598083</td>\n",
       "      <td>11837.159116</td>\n",
       "      <td>7921.829472</td>\n",
       "      <td>1672.592372</td>\n",
       "      <td>416.525563</td>\n",
       "      <td>296.145746</td>\n",
       "      <td>4.693699</td>\n",
       "    </tr>\n",
       "  </tbody>\n",
       "</table>\n",
       "<p>63104 rows × 11 columns</p>\n",
       "</div>"
      ],
      "text/plain": [
       "           Country ISO 3166-1 alpha-3  Year         Total          Coal  \\\n",
       "0      Afghanistan                AFG  1750      0.000000           NaN   \n",
       "1      Afghanistan                AFG  1751      0.000000           NaN   \n",
       "2      Afghanistan                AFG  1752      0.000000           NaN   \n",
       "3      Afghanistan                AFG  1753      0.000000           NaN   \n",
       "4      Afghanistan                AFG  1754      0.000000           NaN   \n",
       "...            ...                ...   ...           ...           ...   \n",
       "63099       Global                WLD  2017  36096.739276  14506.973805   \n",
       "63100       Global                WLD  2018  36826.506600  14746.830688   \n",
       "63101       Global                WLD  2019  37082.558969  14725.978025   \n",
       "63102       Global                WLD  2020  35264.085734  14174.564010   \n",
       "63103       Global                WLD  2021  37123.850352  14979.598083   \n",
       "\n",
       "                Oil          Gas       Cement     Flaring       Other  \\\n",
       "0               NaN          NaN          NaN         NaN         NaN   \n",
       "1               NaN          NaN          NaN         NaN         NaN   \n",
       "2               NaN          NaN          NaN         NaN         NaN   \n",
       "3               NaN          NaN          NaN         NaN         NaN   \n",
       "4               NaN          NaN          NaN         NaN         NaN   \n",
       "...             ...          ...          ...         ...         ...   \n",
       "63099  12242.627935  7144.928128  1507.923185  391.992176  302.294047   \n",
       "63100  12266.016285  7529.846784  1569.218392  412.115746  302.478706   \n",
       "63101  12345.653374  7647.528220  1617.506786  439.253991  306.638573   \n",
       "63102  11191.808551  7556.290283  1637.537532  407.583673  296.301685   \n",
       "63103  11837.159116  7921.829472  1672.592372  416.525563  296.145746   \n",
       "\n",
       "       Per Capita  \n",
       "0             NaN  \n",
       "1             NaN  \n",
       "2             NaN  \n",
       "3             NaN  \n",
       "4             NaN  \n",
       "...           ...  \n",
       "63099    4.749682  \n",
       "63100    4.792753  \n",
       "63101    4.775633  \n",
       "63102    4.497423  \n",
       "63103    4.693699  \n",
       "\n",
       "[63104 rows x 11 columns]"
      ]
     },
     "execution_count": 1,
     "metadata": {},
     "output_type": "execute_result"
    }
   ],
   "source": [
    "import pandas as pd\n",
    "import numpy as np\n",
    "import seaborn as sns\n",
    "import matplotlib.pyplot as plt\n",
    "df = pd.read_csv('Emission.csv')\n",
    "df"
   ]
  },
  {
   "cell_type": "markdown",
   "id": "152b767d",
   "metadata": {},
   "source": [
    "### Check if we have duplicate rows"
   ]
  },
  {
   "cell_type": "code",
   "execution_count": 2,
   "id": "a0112d68",
   "metadata": {},
   "outputs": [
    {
     "data": {
      "text/html": [
       "<div>\n",
       "<style scoped>\n",
       "    .dataframe tbody tr th:only-of-type {\n",
       "        vertical-align: middle;\n",
       "    }\n",
       "\n",
       "    .dataframe tbody tr th {\n",
       "        vertical-align: top;\n",
       "    }\n",
       "\n",
       "    .dataframe thead th {\n",
       "        text-align: right;\n",
       "    }\n",
       "</style>\n",
       "<table border=\"1\" class=\"dataframe\">\n",
       "  <thead>\n",
       "    <tr style=\"text-align: right;\">\n",
       "      <th></th>\n",
       "      <th>Country</th>\n",
       "      <th>ISO 3166-1 alpha-3</th>\n",
       "      <th>Year</th>\n",
       "      <th>Total</th>\n",
       "      <th>Coal</th>\n",
       "      <th>Oil</th>\n",
       "      <th>Gas</th>\n",
       "      <th>Cement</th>\n",
       "      <th>Flaring</th>\n",
       "      <th>Other</th>\n",
       "      <th>Per Capita</th>\n",
       "    </tr>\n",
       "  </thead>\n",
       "  <tbody>\n",
       "  </tbody>\n",
       "</table>\n",
       "</div>"
      ],
      "text/plain": [
       "Empty DataFrame\n",
       "Columns: [Country, ISO 3166-1 alpha-3, Year, Total, Coal, Oil, Gas, Cement, Flaring, Other, Per Capita]\n",
       "Index: []"
      ]
     },
     "execution_count": 2,
     "metadata": {},
     "output_type": "execute_result"
    }
   ],
   "source": [
    "df[df.duplicated()]"
   ]
  },
  {
   "cell_type": "markdown",
   "id": "4848ab75",
   "metadata": {},
   "source": [
    "### Check for null"
   ]
  },
  {
   "cell_type": "code",
   "execution_count": 3,
   "id": "179abbec",
   "metadata": {},
   "outputs": [
    {
     "data": {
      "text/plain": [
       "Country                   0\n",
       "ISO 3166-1 alpha-3     1632\n",
       "Year                      0\n",
       "Total                   200\n",
       "Coal                  41360\n",
       "Oil                   41387\n",
       "Gas                   41486\n",
       "Cement                42290\n",
       "Flaring               41554\n",
       "Other                 61484\n",
       "Per Capita            44130\n",
       "dtype: int64"
      ]
     },
     "execution_count": 3,
     "metadata": {},
     "output_type": "execute_result"
    }
   ],
   "source": [
    "df.isnull().sum()"
   ]
  },
  {
   "cell_type": "markdown",
   "id": "4f343ad4",
   "metadata": {},
   "source": [
    "### Deal with null data we have"
   ]
  },
  {
   "cell_type": "code",
   "execution_count": 4,
   "id": "6ae52f93",
   "metadata": {},
   "outputs": [
    {
     "data": {
      "text/plain": [
       "array(['French Equatorial Africa', 'French West Africa',\n",
       "       'Kuwaiti Oil Fires', 'Leeward Islands', 'Pacific Islands (Palau)',\n",
       "       'Ryukyu Islands'], dtype=object)"
      ]
     },
     "execution_count": 4,
     "metadata": {},
     "output_type": "execute_result"
    }
   ],
   "source": [
    "nname = df[df['ISO 3166-1 alpha-3'].isnull()]['Country'].unique()\n",
    "nname"
   ]
  },
  {
   "cell_type": "code",
   "execution_count": 5,
   "id": "ed85c653",
   "metadata": {},
   "outputs": [],
   "source": [
    "nname = df[df['ISO 3166-1 alpha-3'].isnull()]['Country'].unique()\n",
    "for i in nname:\n",
    "    if i == 'French Equatorial Africa':\n",
    "        x = df[df['Country']==str(i)]['ISO 3166-1 alpha-3'].index\n",
    "        for j in x:\n",
    "            df.at[j,'ISO 3166-1 alpha-3'] = 'FEA'\n",
    "    elif i == 'French West Africa':\n",
    "        x = df[df['Country']==str(i)]['ISO 3166-1 alpha-3'].index\n",
    "        for j in x:\n",
    "            df.at[j,'ISO 3166-1 alpha-3'] = 'FWA'\n",
    "    elif i == 'Kuwaiti Oil Fires':\n",
    "        x = df[df['Country']==str(i)]['ISO 3166-1 alpha-3'].index\n",
    "        for j in x:\n",
    "            df.at[j,'ISO 3166-1 alpha-3'] = 'KOF'\n",
    "    elif i == 'Leeward Islands':\n",
    "        x = df[df['Country']==str(i)]['ISO 3166-1 alpha-3'].index\n",
    "        for j in x:\n",
    "            df.at[j,'ISO 3166-1 alpha-3'] = 'LWI'\n",
    "    elif i == 'Pacific Islands (Palau)':\n",
    "        x = df[df['Country']==str(i)]['ISO 3166-1 alpha-3'].index\n",
    "        for j in x:\n",
    "            df.at[j,'ISO 3166-1 alpha-3'] = 'PIP'\n",
    "    elif i == 'Ryukyu Islands':\n",
    "        x = df[df['Country']==str(i)]['ISO 3166-1 alpha-3'].index\n",
    "        for j in x:\n",
    "            df.at[j,'ISO 3166-1 alpha-3'] = 'RKI'"
   ]
  },
  {
   "cell_type": "code",
   "execution_count": 6,
   "id": "8613fa95",
   "metadata": {},
   "outputs": [
    {
     "data": {
      "text/plain": [
       "Country                True\n",
       "ISO 3166-1 alpha-3     True\n",
       "Year                   True\n",
       "Total                 False\n",
       "Coal                  False\n",
       "Oil                   False\n",
       "Gas                   False\n",
       "Cement                False\n",
       "Flaring               False\n",
       "Other                 False\n",
       "Per Capita            False\n",
       "dtype: bool"
      ]
     },
     "execution_count": 6,
     "metadata": {},
     "output_type": "execute_result"
    }
   ],
   "source": [
    "df[df.Total.isnull()].any()"
   ]
  },
  {
   "cell_type": "code",
   "execution_count": 7,
   "id": "7cc9da5a",
   "metadata": {},
   "outputs": [
    {
     "data": {
      "text/plain": [
       "Country               0\n",
       "ISO 3166-1 alpha-3    0\n",
       "Year                  0\n",
       "Total                 0\n",
       "Coal                  0\n",
       "Oil                   0\n",
       "Gas                   0\n",
       "Cement                0\n",
       "Flaring               0\n",
       "Other                 0\n",
       "Per Capita            0\n",
       "dtype: int64"
      ]
     },
     "execution_count": 7,
     "metadata": {},
     "output_type": "execute_result"
    }
   ],
   "source": [
    "df.fillna(0,inplace=True)\n",
    "df.isnull().sum()"
   ]
  },
  {
   "cell_type": "markdown",
   "id": "425f6a53",
   "metadata": {},
   "source": [
    "### Export for EDA process and Visualization"
   ]
  },
  {
   "cell_type": "code",
   "execution_count": 8,
   "id": "18988c47",
   "metadata": {},
   "outputs": [],
   "source": [
    "df.to_csv('Emission_Done.csv')"
   ]
  },
  {
   "cell_type": "markdown",
   "id": "85a195f0",
   "metadata": {},
   "source": [
    "### Let's have a little explore through out data"
   ]
  },
  {
   "cell_type": "code",
   "execution_count": 9,
   "id": "802ea681",
   "metadata": {},
   "outputs": [],
   "source": [
    "c = df.Country.unique()"
   ]
  },
  {
   "cell_type": "code",
   "execution_count": 10,
   "id": "808f9e51",
   "metadata": {
    "scrolled": true
   },
   "outputs": [
    {
     "name": "stdout",
     "output_type": "stream",
     "text": [
      "First year that emissions appeared in dataset\n",
      "Afghanistan : 1949\n",
      "Albania : 1933\n",
      "Algeria : 1916\n",
      "Andorra : 1990\n",
      "Angola : 1950\n",
      "Anguilla : 1990\n",
      "Antarctica : 1987\n",
      "Antigua and Barbuda : 1957\n",
      "Argentina : 1887\n",
      "Armenia : 1830\n",
      "Aruba : 1926\n",
      "Australia : 1860\n",
      "Austria : 1807\n",
      "Azerbaijan : 1830\n",
      "Bahamas : 1950\n",
      "Bahrain : 1933\n",
      "Bangladesh : 1946\n",
      "Barbados : 1928\n",
      "Belarus : 1830\n",
      "Belgium : 1802\n",
      "Belize : 1950\n",
      "Benin : 1958\n",
      "Bermuda : 1950\n",
      "Bhutan : 1970\n",
      "Bonaire, Saint Eustatius and Saba : 1926\n",
      "Bosnia and Herzegovina : 1885\n",
      "Botswana : 1972\n",
      "Brazil : 1901\n",
      "British Virgin Islands : 1962\n",
      "Brunei Darussalam : 1933\n",
      "Bulgaria : 1881\n",
      "Burkina Faso : 1958\n",
      "Burundi : 1950\n",
      "Cambodia : 1955\n",
      "Canada : 1785\n",
      "Cape Verde : 1950\n",
      "Central African Republic : 1959\n",
      "Chad : 1959\n",
      "Chile : 1895\n",
      "China : 1907\n",
      "Christmas Island : 1970\n",
      "Colombia : 1921\n",
      "Comoros : 1959\n",
      "Congo : 1959\n",
      "Cook Islands : 1969\n",
      "Costa Rica : 1950\n",
      "Côte d'Ivoire : 1958\n",
      "Croatia : 1885\n",
      "Cuba : 1941\n",
      "Curaçao : 1926\n",
      "Cyprus : 1950\n",
      "Czech Republic : 1860\n",
      "North Korea : 1905\n",
      "Democratic Republic of the Congo : 1920\n",
      "Denmark : 1843\n",
      "Djibouti : 1950\n",
      "Dominica : 1951\n",
      "Dominican Republic : 1947\n",
      "Ecuador : 1917\n",
      "Egypt : 1911\n",
      "El Salvador : 1950\n",
      "Equatorial Guinea : 1950\n",
      "Eritrea : 1939\n",
      "Estonia : 1830\n",
      "Ethiopia : 1941\n",
      "Faeroe Islands : 1950\n",
      "Micronesia (Federated States of) : 1992\n",
      "Fiji : 1950\n",
      "Finland : 1860\n",
      "Panama Canal Zone : 1950\n",
      "France : 1802\n",
      "French Equatorial Africa : 1950\n",
      "French Guiana : 1950\n",
      "French Polynesia : 1955\n",
      "French West Africa : 1949\n",
      "Gabon : 1959\n",
      "Gambia : 1950\n",
      "Georgia : 1830\n",
      "Germany : 1792\n",
      "Ghana : 1950\n",
      "Greece : 1867\n",
      "Greenland : 1950\n",
      "Grenada : 1950\n",
      "Guadeloupe : 1950\n",
      "Guatemala : 1941\n",
      "Guinea : 1958\n",
      "Guinea-Bissau : 1950\n",
      "Guyana : 1950\n",
      "Haiti : 1950\n",
      "Honduras : 1950\n",
      "Hong Kong : 1938\n",
      "Hungary : 1830\n",
      "Iceland : 1936\n",
      "India : 1858\n",
      "Indonesia : 1889\n",
      "Iraq : 1927\n",
      "Ireland : 1850\n",
      "Iran : 1906\n",
      "Israel : 1930\n",
      "Italy : 1860\n",
      "Jamaica : 1950\n",
      "Japan : 1868\n",
      "Jordan : 1950\n",
      "Kazakhstan : 1830\n",
      "Kenya : 1950\n",
      "Kiribati : 1961\n",
      "Kosovo : 2008\n",
      "Kuwait : 1946\n",
      "Kuwaiti Oil Fires : 1991\n",
      "Kyrgyzstan : 1830\n",
      "Laos : 1955\n",
      "Latvia : 1830\n",
      "Lebanon : 1931\n",
      "Leeward Islands : 1950\n",
      "Lesotho : 1990\n",
      "Liberia : 1950\n",
      "Libya : 1950\n",
      "Liechtenstein : 1990\n",
      "Lithuania : 1830\n",
      "Luxembourg : 1945\n",
      "Macao : 1954\n",
      "North Macedonia : 1885\n",
      "Madagascar : 1933\n",
      "Malawi : 1950\n",
      "Malaysia : 1890\n",
      "Maldives : 1971\n",
      "Mali : 1959\n",
      "Malta : 1950\n",
      "Marshall Islands : 1992\n",
      "Martinique : 1950\n",
      "Mauritania : 1959\n",
      "Mauritius : 1950\n",
      "Mayotte : 1990\n",
      "Mexico : 1891\n",
      "Mongolia : 1950\n",
      "Montenegro : 1885\n",
      "Montserrat : 1962\n",
      "Morocco : 1928\n",
      "Mozambique : 1927\n",
      "Myanmar : 1928\n",
      "Namibia : 1991\n",
      "Nauru : 1964\n",
      "Nepal : 1950\n",
      "Netherlands : 1846\n",
      "New Caledonia : 1950\n",
      "New Zealand : 1878\n",
      "Nicaragua : 1943\n",
      "Niger : 1958\n",
      "Nigeria : 1915\n",
      "Niue : 1970\n",
      "Norway : 1829\n",
      "Occupied Palestinian Territory : 1990\n",
      "Oman : 1964\n",
      "Pacific Islands (Palau) : 1955\n",
      "Pakistan : 1946\n",
      "Palau : 1992\n",
      "Panama : 1948\n",
      "Papua New Guinea : 1950\n",
      "Paraguay : 1950\n",
      "Peru : 1884\n",
      "Philippines : 1907\n",
      "Bolivia : 1928\n",
      "Poland : 1800\n",
      "Portugal : 1870\n",
      "Puerto Rico : 1920\n",
      "Qatar : 1949\n",
      "Cameroon : 1950\n",
      "South Korea : 1905\n",
      "Moldova : 1830\n",
      "South Sudan : 1950\n",
      "Sudan : 1950\n",
      "Réunion : 1950\n",
      "Romania : 1858\n",
      "Russia : 1830\n",
      "Rwanda : 1950\n",
      "Ryukyu Islands : 1952\n",
      "Saint Helena : 1968\n",
      "Saint Lucia : 1950\n",
      "Sint Maarten (Dutch part) : 1926\n",
      "Samoa : 1950\n",
      "Sao Tome and Principe : 1951\n",
      "Saudi Arabia : 1936\n",
      "Senegal : 1958\n",
      "Serbia : 1885\n",
      "Seychelles : 1963\n",
      "Sierra Leone : 1950\n",
      "Singapore : 1950\n",
      "Slovakia : 1860\n",
      "Slovenia : 1885\n",
      "Solomon Islands : 1952\n",
      "Somalia : 1950\n",
      "South Africa : 1884\n",
      "Spain : 1830\n",
      "Sri Lanka : 1950\n",
      "Saint Kitts and Nevis : 1981\n",
      "St. Kitts-Nevis-Anguilla : 1957\n",
      "Saint Pierre and Miquelon : 1950\n",
      "Saint Vincent and the Grenadines : 1950\n",
      "Suriname : 1950\n",
      "Swaziland : 1950\n",
      "Sweden : 1834\n",
      "Switzerland : 1858\n",
      "Syria : 1931\n",
      "Taiwan : 1896\n",
      "Tajikistan : 1830\n",
      "Thailand : 1931\n",
      "Timor-Leste : 2002\n",
      "Togo : 1950\n",
      "Tonga : 1950\n",
      "Trinidad and Tobago : 1909\n",
      "Tunisia : 1916\n",
      "Turkey : 1865\n",
      "Turkmenistan : 1830\n",
      "Turks and Caicos Islands : 1990\n",
      "Tuvalu : 1990\n",
      "Uganda : 1950\n",
      "Ukraine : 1830\n",
      "United Arab Emirates : 1959\n",
      "United Kingdom : 1750\n",
      "Tanzania : 1950\n",
      "USA : 1800\n",
      "Uruguay : 1932\n",
      "Uzbekistan : 1830\n",
      "Vanuatu : 1962\n",
      "Venezuela : 1904\n",
      "Viet Nam : 1892\n",
      "Wallis and Futuna Islands : 1990\n",
      "Yemen : 1950\n",
      "Zambia : 1950\n",
      "Zimbabwe : 1903\n",
      "International Transport : 1950\n",
      "Global : 1750\n"
     ]
    }
   ],
   "source": [
    "print('First year that emissions appeared in dataset')\n",
    "for i in c:\n",
    "    x = df[(df['Country']==i) & (df['Total']>0)].Year.min()\n",
    "    print('{} : {}'.format(i,x))"
   ]
  },
  {
   "cell_type": "code",
   "execution_count": 11,
   "id": "1f68a3c6",
   "metadata": {},
   "outputs": [
    {
     "name": "stdout",
     "output_type": "stream",
     "text": [
      "\tCO2 Total emissions by milloin tonnes\n"
     ]
    },
    {
     "data": {
      "text/plain": [
       "Country\n",
       "USA       421906.855203\n",
       "China     249352.817660\n",
       "Russia    117547.631435\n",
       "Name: Total, dtype: float64"
      ]
     },
     "execution_count": 11,
     "metadata": {},
     "output_type": "execute_result"
    }
   ],
   "source": [
    "print('\\tCO2 Total emissions by milloin tonnes')\n",
    "df[df['Country'] != 'Global'].groupby('Country')['Total'].sum().sort_values(ascending = False).head(3)"
   ]
  },
  {
   "cell_type": "code",
   "execution_count": 12,
   "id": "f0fa330e",
   "metadata": {},
   "outputs": [],
   "source": [
    "cnx=df[df['Country'] == 'China'].Year\n",
    "cny=df[df['Country'] == 'China'].Total\n",
    "usx=df[df['Country'] == 'USA'].Year\n",
    "usy=df[df['Country'] == 'USA'].Total\n",
    "rsx=df[df['Country'] == 'Russia'].Year\n",
    "rsy=df[df['Country'] == 'Russia'].Total"
   ]
  },
  {
   "cell_type": "code",
   "execution_count": 13,
   "id": "64611b65",
   "metadata": {
    "scrolled": true
   },
   "outputs": [
    {
     "data": {
      "image/png": "[encoded data removed]",
      "text/plain": [
       "<Figure size 1080x360 with 1 Axes>"
      ]
     },
     "metadata": {
      "needs_background": "light"
     },
     "output_type": "display_data"
    }
   ],
   "source": [
    "plt.rcParams[\"figure.figsize\"] = (15,5)\n",
    "plt.title('Emission Growth Rate Of The Top 3 Highest Total CO2 Emissions')\n",
    "plt.plot(cnx, cny, c='b')\n",
    "plt.plot(usx, usy, c='g')\n",
    "plt.plot(rsx, rsy, c='orange')\n",
    "plt.legend([\"China\", 'USA', 'India'], loc =\"upper left\")\n",
    "plt.show()"
   ]
  },
  {
   "cell_type": "code",
   "execution_count": 14,
   "id": "12f5d203",
   "metadata": {
    "scrolled": true
   },
   "outputs": [
    {
     "name": "stdout",
     "output_type": "stream",
     "text": [
      "\tNon-English country names from 232 countries\n",
      "Côte d'Ivoire\n",
      "Curaçao\n",
      "Réunion\n"
     ]
    }
   ],
   "source": [
    "n = df.Country.unique()\n",
    "\n",
    "def isEnglish(s):\n",
    "  return s.isascii()\n",
    "\n",
    "print('\\tNon-English country names from {} countries'.format(len(n)))\n",
    "for i in range(len(n)):\n",
    "    if isEnglish(n[i]) == False:\n",
    "        print(n[i])"
   ]
  },
  {
   "cell_type": "code",
   "execution_count": 15,
   "id": "6e91c4cc",
   "metadata": {
    "scrolled": true
   },
   "outputs": [
    {
     "name": "stdout",
     "output_type": "stream",
     "text": [
      "Average CO2 emissions from Total = 6385.772166624999 Million tonnes\n",
      "Average CO2 emissions from Coal = 2956.581079125 Million tonnes\n",
      "Average CO2 emissions from Oil = 2226.017414022059 Million tonnes\n",
      "Average CO2 emissions from Gas = 934.0361071544118 Million tonnes\n",
      "Average CO2 emissions from Cement = 165.68722520220587 Million tonnes\n",
      "Average CO2 emissions from Flaring = 67.84663816911764 Million tonnes\n",
      "Average CO2 emissions from Other = 29.621478691176467 Million tonnes\n",
      "----Average CO2 emissions per capita = 1.4948445919117643 tonnes----\n"
     ]
    }
   ],
   "source": [
    "for i in range(3,10):\n",
    "    print('Average CO2 emissions from {} = {} Million tonnes'.format(df.columns[i], df[df['Country']=='Global'][df.columns[i]].mean()))\n",
    "print('----Average CO2 emissions per capita = {} tonnes----'.format(df[df['Country']=='Global']['Per Capita'].mean()))"
   ]
  },
  {
   "cell_type": "markdown",
   "id": "d6f58c06",
   "metadata": {},
   "source": [
    "### Build model to forecast future Global CO2 emissions using Prophet"
   ]
  },
  {
   "cell_type": "markdown",
   "id": "9718adfd",
   "metadata": {},
   "source": [
    "#### create new dataframe"
   ]
  },
  {
   "cell_type": "code",
   "execution_count": 16,
   "id": "80b8d923",
   "metadata": {},
   "outputs": [
    {
     "data": {
      "text/html": [
       "<div>\n",
       "<style scoped>\n",
       "    .dataframe tbody tr th:only-of-type {\n",
       "        vertical-align: middle;\n",
       "    }\n",
       "\n",
       "    .dataframe tbody tr th {\n",
       "        vertical-align: top;\n",
       "    }\n",
       "\n",
       "    .dataframe thead th {\n",
       "        text-align: right;\n",
       "    }\n",
       "</style>\n",
       "<table border=\"1\" class=\"dataframe\">\n",
       "  <thead>\n",
       "    <tr style=\"text-align: right;\">\n",
       "      <th></th>\n",
       "      <th>ds</th>\n",
       "      <th>y</th>\n",
       "    </tr>\n",
       "  </thead>\n",
       "  <tbody>\n",
       "    <tr>\n",
       "      <th>62832</th>\n",
       "      <td>1750-01-01</td>\n",
       "      <td>9.350528</td>\n",
       "    </tr>\n",
       "    <tr>\n",
       "      <th>62833</th>\n",
       "      <td>1751-01-01</td>\n",
       "      <td>9.350528</td>\n",
       "    </tr>\n",
       "    <tr>\n",
       "      <th>62834</th>\n",
       "      <td>1752-01-01</td>\n",
       "      <td>9.354192</td>\n",
       "    </tr>\n",
       "    <tr>\n",
       "      <th>62835</th>\n",
       "      <td>1753-01-01</td>\n",
       "      <td>9.354192</td>\n",
       "    </tr>\n",
       "    <tr>\n",
       "      <th>62836</th>\n",
       "      <td>1754-01-01</td>\n",
       "      <td>9.357856</td>\n",
       "    </tr>\n",
       "    <tr>\n",
       "      <th>...</th>\n",
       "      <td>...</td>\n",
       "      <td>...</td>\n",
       "    </tr>\n",
       "    <tr>\n",
       "      <th>63099</th>\n",
       "      <td>2017-01-01</td>\n",
       "      <td>36096.739276</td>\n",
       "    </tr>\n",
       "    <tr>\n",
       "      <th>63100</th>\n",
       "      <td>2018-01-01</td>\n",
       "      <td>36826.506600</td>\n",
       "    </tr>\n",
       "    <tr>\n",
       "      <th>63101</th>\n",
       "      <td>2019-01-01</td>\n",
       "      <td>37082.558969</td>\n",
       "    </tr>\n",
       "    <tr>\n",
       "      <th>63102</th>\n",
       "      <td>2020-01-01</td>\n",
       "      <td>35264.085734</td>\n",
       "    </tr>\n",
       "    <tr>\n",
       "      <th>63103</th>\n",
       "      <td>2021-01-01</td>\n",
       "      <td>37123.850352</td>\n",
       "    </tr>\n",
       "  </tbody>\n",
       "</table>\n",
       "<p>272 rows × 2 columns</p>\n",
       "</div>"
      ],
      "text/plain": [
       "              ds             y\n",
       "62832 1750-01-01      9.350528\n",
       "62833 1751-01-01      9.350528\n",
       "62834 1752-01-01      9.354192\n",
       "62835 1753-01-01      9.354192\n",
       "62836 1754-01-01      9.357856\n",
       "...          ...           ...\n",
       "63099 2017-01-01  36096.739276\n",
       "63100 2018-01-01  36826.506600\n",
       "63101 2019-01-01  37082.558969\n",
       "63102 2020-01-01  35264.085734\n",
       "63103 2021-01-01  37123.850352\n",
       "\n",
       "[272 rows x 2 columns]"
      ]
     },
     "execution_count": 16,
     "metadata": {},
     "output_type": "execute_result"
    }
   ],
   "source": [
    "dfpro = pd.DataFrame(data = df[df['Country']=='Global']['Year'], columns=['Year'])\n",
    "dfpro['Year'] = pd.to_datetime(dfpro['Year'], format='%Y')\n",
    "\n",
    "dfpro = dfpro.join(df.Total)\n",
    "dfpro.rename(columns = {'Year':'ds', 'Total':'y'}, inplace=True)\n",
    "dfpro"
   ]
  },
  {
   "cell_type": "markdown",
   "id": "9f582430",
   "metadata": {},
   "source": [
    "#### Train/Test split"
   ]
  },
  {
   "cell_type": "code",
   "execution_count": 17,
   "id": "3ca37c2b",
   "metadata": {},
   "outputs": [],
   "source": [
    "train = dfpro[dfpro['ds'] < pd.Timestamp('2000-01-01')]\n",
    "test = dfpro[dfpro['ds'] >= pd.Timestamp('2000-01-01')]"
   ]
  },
  {
   "cell_type": "markdown",
   "id": "1dfe894d",
   "metadata": {},
   "source": [
    "#### fit train data into model"
   ]
  },
  {
   "cell_type": "code",
   "execution_count": 18,
   "id": "e29af7a4",
   "metadata": {},
   "outputs": [
    {
     "name": "stderr",
     "output_type": "stream",
     "text": [
      "Importing plotly failed. Interactive plots will not work.\n",
      "03:49:20 - cmdstanpy - INFO - Chain [1] start processing\n",
      "03:49:20 - cmdstanpy - INFO - Chain [1] done processing\n"
     ]
    },
    {
     "data": {
      "text/plain": [
       "<prophet.forecaster.Prophet at 0x2379ecdafe0>"
      ]
     },
     "execution_count": 18,
     "metadata": {},
     "output_type": "execute_result"
    }
   ],
   "source": [
    "from prophet import Prophet\n",
    "m = Prophet(changepoint_prior_scale=5)\n",
    "m.fit(train)"
   ]
  },
  {
   "cell_type": "markdown",
   "id": "f84a05f2",
   "metadata": {},
   "source": [
    "#### Make a prediction and compare with our test data"
   ]
  },
  {
   "cell_type": "code",
   "execution_count": 19,
   "id": "e9f38fee",
   "metadata": {},
   "outputs": [],
   "source": [
    "future = m.make_future_dataframe(periods=22, freq='YS', include_history = True) "
   ]
  },
  {
   "cell_type": "code",
   "execution_count": 20,
   "id": "fdf77467",
   "metadata": {},
   "outputs": [
    {
     "data": {
      "text/html": [
       "<div>\n",
       "<style scoped>\n",
       "    .dataframe tbody tr th:only-of-type {\n",
       "        vertical-align: middle;\n",
       "    }\n",
       "\n",
       "    .dataframe tbody tr th {\n",
       "        vertical-align: top;\n",
       "    }\n",
       "\n",
       "    .dataframe thead th {\n",
       "        text-align: right;\n",
       "    }\n",
       "</style>\n",
       "<table border=\"1\" class=\"dataframe\">\n",
       "  <thead>\n",
       "    <tr style=\"text-align: right;\">\n",
       "      <th></th>\n",
       "      <th>ds</th>\n",
       "    </tr>\n",
       "  </thead>\n",
       "  <tbody>\n",
       "    <tr>\n",
       "      <th>0</th>\n",
       "      <td>1750-01-01</td>\n",
       "    </tr>\n",
       "    <tr>\n",
       "      <th>1</th>\n",
       "      <td>1751-01-01</td>\n",
       "    </tr>\n",
       "    <tr>\n",
       "      <th>2</th>\n",
       "      <td>1752-01-01</td>\n",
       "    </tr>\n",
       "    <tr>\n",
       "      <th>3</th>\n",
       "      <td>1753-01-01</td>\n",
       "    </tr>\n",
       "    <tr>\n",
       "      <th>4</th>\n",
       "      <td>1754-01-01</td>\n",
       "    </tr>\n",
       "    <tr>\n",
       "      <th>...</th>\n",
       "      <td>...</td>\n",
       "    </tr>\n",
       "    <tr>\n",
       "      <th>267</th>\n",
       "      <td>2017-01-01</td>\n",
       "    </tr>\n",
       "    <tr>\n",
       "      <th>268</th>\n",
       "      <td>2018-01-01</td>\n",
       "    </tr>\n",
       "    <tr>\n",
       "      <th>269</th>\n",
       "      <td>2019-01-01</td>\n",
       "    </tr>\n",
       "    <tr>\n",
       "      <th>270</th>\n",
       "      <td>2020-01-01</td>\n",
       "    </tr>\n",
       "    <tr>\n",
       "      <th>271</th>\n",
       "      <td>2021-01-01</td>\n",
       "    </tr>\n",
       "  </tbody>\n",
       "</table>\n",
       "<p>272 rows × 1 columns</p>\n",
       "</div>"
      ],
      "text/plain": [
       "            ds\n",
       "0   1750-01-01\n",
       "1   1751-01-01\n",
       "2   1752-01-01\n",
       "3   1753-01-01\n",
       "4   1754-01-01\n",
       "..         ...\n",
       "267 2017-01-01\n",
       "268 2018-01-01\n",
       "269 2019-01-01\n",
       "270 2020-01-01\n",
       "271 2021-01-01\n",
       "\n",
       "[272 rows x 1 columns]"
      ]
     },
     "execution_count": 20,
     "metadata": {},
     "output_type": "execute_result"
    }
   ],
   "source": [
    "future"
   ]
  },
  {
   "cell_type": "code",
   "execution_count": 21,
   "id": "cfbe8143",
   "metadata": {},
   "outputs": [],
   "source": [
    "forecast = m.predict(future)"
   ]
  },
  {
   "cell_type": "code",
   "execution_count": 22,
   "id": "b6b9d9b8",
   "metadata": {},
   "outputs": [
    {
     "data": {
      "image/png": "[encoded data removed]",
      "text/plain": [
       "<Figure size 720x432 with 1 Axes>"
      ]
     },
     "metadata": {},
     "output_type": "display_data"
    }
   ],
   "source": [
    "m.plot(forecast)\n",
    "plt.rcParams[\"figure.figsize\"] = (10,7)\n",
    "plt.title('Compare data with prediction')\n",
    "plt.scatter(test['ds'] , test['y'], c='red',s=7)\n",
    "plt.plot(forecast.iloc[-len(test):]['ds'], forecast.iloc[-len(test):]['yhat'], c='blue')\n",
    "plt.legend(['Train data points','Predict','Uncertainty interval', 'Test data points','Predict'])\n",
    "plt.show()"
   ]
  },
  {
   "cell_type": "code",
   "execution_count": 23,
   "id": "357f4f3f",
   "metadata": {
    "scrolled": true
   },
   "outputs": [
    {
     "data": {
      "text/html": [
       "<div>\n",
       "<style scoped>\n",
       "    .dataframe tbody tr th:only-of-type {\n",
       "        vertical-align: middle;\n",
       "    }\n",
       "\n",
       "    .dataframe tbody tr th {\n",
       "        vertical-align: top;\n",
       "    }\n",
       "\n",
       "    .dataframe thead th {\n",
       "        text-align: right;\n",
       "    }\n",
       "</style>\n",
       "<table border=\"1\" class=\"dataframe\">\n",
       "  <thead>\n",
       "    <tr style=\"text-align: right;\">\n",
       "      <th></th>\n",
       "      <th>ds</th>\n",
       "      <th>trend</th>\n",
       "      <th>yhat_lower</th>\n",
       "      <th>yhat_upper</th>\n",
       "      <th>trend_lower</th>\n",
       "      <th>trend_upper</th>\n",
       "      <th>additive_terms</th>\n",
       "      <th>additive_terms_lower</th>\n",
       "      <th>additive_terms_upper</th>\n",
       "      <th>yearly</th>\n",
       "      <th>yearly_lower</th>\n",
       "      <th>yearly_upper</th>\n",
       "      <th>multiplicative_terms</th>\n",
       "      <th>multiplicative_terms_lower</th>\n",
       "      <th>multiplicative_terms_upper</th>\n",
       "      <th>yhat</th>\n",
       "    </tr>\n",
       "  </thead>\n",
       "  <tbody>\n",
       "    <tr>\n",
       "      <th>0</th>\n",
       "      <td>1750-01-01</td>\n",
       "      <td>652.818811</td>\n",
       "      <td>-502.237795</td>\n",
       "      <td>519.292182</td>\n",
       "      <td>652.818811</td>\n",
       "      <td>652.818811</td>\n",
       "      <td>-641.320365</td>\n",
       "      <td>-641.320365</td>\n",
       "      <td>-641.320365</td>\n",
       "      <td>-641.320365</td>\n",
       "      <td>-641.320365</td>\n",
       "      <td>-641.320365</td>\n",
       "      <td>0.0</td>\n",
       "      <td>0.0</td>\n",
       "      <td>0.0</td>\n",
       "      <td>11.498446</td>\n",
       "    </tr>\n",
       "    <tr>\n",
       "      <th>1</th>\n",
       "      <td>1751-01-01</td>\n",
       "      <td>653.329551</td>\n",
       "      <td>-485.686025</td>\n",
       "      <td>511.192103</td>\n",
       "      <td>653.329551</td>\n",
       "      <td>653.329551</td>\n",
       "      <td>-648.587987</td>\n",
       "      <td>-648.587987</td>\n",
       "      <td>-648.587987</td>\n",
       "      <td>-648.587987</td>\n",
       "      <td>-648.587987</td>\n",
       "      <td>-648.587987</td>\n",
       "      <td>0.0</td>\n",
       "      <td>0.0</td>\n",
       "      <td>0.0</td>\n",
       "      <td>4.741564</td>\n",
       "    </tr>\n",
       "    <tr>\n",
       "      <th>2</th>\n",
       "      <td>1752-01-01</td>\n",
       "      <td>653.840291</td>\n",
       "      <td>-535.528257</td>\n",
       "      <td>488.503580</td>\n",
       "      <td>653.840291</td>\n",
       "      <td>653.840291</td>\n",
       "      <td>-652.284289</td>\n",
       "      <td>-652.284289</td>\n",
       "      <td>-652.284289</td>\n",
       "      <td>-652.284289</td>\n",
       "      <td>-652.284289</td>\n",
       "      <td>-652.284289</td>\n",
       "      <td>0.0</td>\n",
       "      <td>0.0</td>\n",
       "      <td>0.0</td>\n",
       "      <td>1.556002</td>\n",
       "    </tr>\n",
       "    <tr>\n",
       "      <th>3</th>\n",
       "      <td>1753-01-01</td>\n",
       "      <td>654.352431</td>\n",
       "      <td>-512.534537</td>\n",
       "      <td>521.042196</td>\n",
       "      <td>654.352431</td>\n",
       "      <td>654.352431</td>\n",
       "      <td>-630.636871</td>\n",
       "      <td>-630.636871</td>\n",
       "      <td>-630.636871</td>\n",
       "      <td>-630.636871</td>\n",
       "      <td>-630.636871</td>\n",
       "      <td>-630.636871</td>\n",
       "      <td>0.0</td>\n",
       "      <td>0.0</td>\n",
       "      <td>0.0</td>\n",
       "      <td>23.715560</td>\n",
       "    </tr>\n",
       "    <tr>\n",
       "      <th>4</th>\n",
       "      <td>1754-01-01</td>\n",
       "      <td>654.863171</td>\n",
       "      <td>-544.443884</td>\n",
       "      <td>516.998742</td>\n",
       "      <td>654.863171</td>\n",
       "      <td>654.863171</td>\n",
       "      <td>-641.320365</td>\n",
       "      <td>-641.320365</td>\n",
       "      <td>-641.320365</td>\n",
       "      <td>-641.320365</td>\n",
       "      <td>-641.320365</td>\n",
       "      <td>-641.320365</td>\n",
       "      <td>0.0</td>\n",
       "      <td>0.0</td>\n",
       "      <td>0.0</td>\n",
       "      <td>13.542806</td>\n",
       "    </tr>\n",
       "    <tr>\n",
       "      <th>...</th>\n",
       "      <td>...</td>\n",
       "      <td>...</td>\n",
       "      <td>...</td>\n",
       "      <td>...</td>\n",
       "      <td>...</td>\n",
       "      <td>...</td>\n",
       "      <td>...</td>\n",
       "      <td>...</td>\n",
       "      <td>...</td>\n",
       "      <td>...</td>\n",
       "      <td>...</td>\n",
       "      <td>...</td>\n",
       "      <td>...</td>\n",
       "      <td>...</td>\n",
       "      <td>...</td>\n",
       "      <td>...</td>\n",
       "    </tr>\n",
       "    <tr>\n",
       "      <th>267</th>\n",
       "      <td>2017-01-01</td>\n",
       "      <td>34137.237789</td>\n",
       "      <td>32750.708223</td>\n",
       "      <td>34334.825329</td>\n",
       "      <td>33598.711073</td>\n",
       "      <td>34782.330953</td>\n",
       "      <td>-612.176989</td>\n",
       "      <td>-612.176989</td>\n",
       "      <td>-612.176989</td>\n",
       "      <td>-612.176989</td>\n",
       "      <td>-612.176989</td>\n",
       "      <td>-612.176989</td>\n",
       "      <td>0.0</td>\n",
       "      <td>0.0</td>\n",
       "      <td>0.0</td>\n",
       "      <td>33525.060800</td>\n",
       "    </tr>\n",
       "    <tr>\n",
       "      <th>268</th>\n",
       "      <td>2018-01-01</td>\n",
       "      <td>34552.231225</td>\n",
       "      <td>33078.215984</td>\n",
       "      <td>34787.029308</td>\n",
       "      <td>33961.800402</td>\n",
       "      <td>35249.874658</td>\n",
       "      <td>-591.526264</td>\n",
       "      <td>-591.526264</td>\n",
       "      <td>-591.526264</td>\n",
       "      <td>-591.526264</td>\n",
       "      <td>-591.526264</td>\n",
       "      <td>-591.526264</td>\n",
       "      <td>0.0</td>\n",
       "      <td>0.0</td>\n",
       "      <td>0.0</td>\n",
       "      <td>33960.704961</td>\n",
       "    </tr>\n",
       "    <tr>\n",
       "      <th>269</th>\n",
       "      <td>2019-01-01</td>\n",
       "      <td>34967.224661</td>\n",
       "      <td>33575.051313</td>\n",
       "      <td>35362.738679</td>\n",
       "      <td>34321.880111</td>\n",
       "      <td>35728.943274</td>\n",
       "      <td>-566.395219</td>\n",
       "      <td>-566.395219</td>\n",
       "      <td>-566.395219</td>\n",
       "      <td>-566.395219</td>\n",
       "      <td>-566.395219</td>\n",
       "      <td>-566.395219</td>\n",
       "      <td>0.0</td>\n",
       "      <td>0.0</td>\n",
       "      <td>0.0</td>\n",
       "      <td>34400.829442</td>\n",
       "    </tr>\n",
       "    <tr>\n",
       "      <th>270</th>\n",
       "      <td>2020-01-01</td>\n",
       "      <td>35382.218097</td>\n",
       "      <td>33956.379569</td>\n",
       "      <td>35810.879417</td>\n",
       "      <td>34671.597721</td>\n",
       "      <td>36220.735160</td>\n",
       "      <td>-536.683157</td>\n",
       "      <td>-536.683157</td>\n",
       "      <td>-536.683157</td>\n",
       "      <td>-536.683157</td>\n",
       "      <td>-536.683157</td>\n",
       "      <td>-536.683157</td>\n",
       "      <td>0.0</td>\n",
       "      <td>0.0</td>\n",
       "      <td>0.0</td>\n",
       "      <td>34845.534940</td>\n",
       "    </tr>\n",
       "    <tr>\n",
       "      <th>271</th>\n",
       "      <td>2021-01-01</td>\n",
       "      <td>35798.348502</td>\n",
       "      <td>34277.257678</td>\n",
       "      <td>36183.443375</td>\n",
       "      <td>35024.668949</td>\n",
       "      <td>36712.215759</td>\n",
       "      <td>-612.176989</td>\n",
       "      <td>-612.176989</td>\n",
       "      <td>-612.176989</td>\n",
       "      <td>-612.176989</td>\n",
       "      <td>-612.176989</td>\n",
       "      <td>-612.176989</td>\n",
       "      <td>0.0</td>\n",
       "      <td>0.0</td>\n",
       "      <td>0.0</td>\n",
       "      <td>35186.171513</td>\n",
       "    </tr>\n",
       "  </tbody>\n",
       "</table>\n",
       "<p>272 rows × 16 columns</p>\n",
       "</div>"
      ],
      "text/plain": [
       "            ds         trend    yhat_lower    yhat_upper   trend_lower  \\\n",
       "0   1750-01-01    652.818811   -502.237795    519.292182    652.818811   \n",
       "1   1751-01-01    653.329551   -485.686025    511.192103    653.329551   \n",
       "2   1752-01-01    653.840291   -535.528257    488.503580    653.840291   \n",
       "3   1753-01-01    654.352431   -512.534537    521.042196    654.352431   \n",
       "4   1754-01-01    654.863171   -544.443884    516.998742    654.863171   \n",
       "..         ...           ...           ...           ...           ...   \n",
       "267 2017-01-01  34137.237789  32750.708223  34334.825329  33598.711073   \n",
       "268 2018-01-01  34552.231225  33078.215984  34787.029308  33961.800402   \n",
       "269 2019-01-01  34967.224661  33575.051313  35362.738679  34321.880111   \n",
       "270 2020-01-01  35382.218097  33956.379569  35810.879417  34671.597721   \n",
       "271 2021-01-01  35798.348502  34277.257678  36183.443375  35024.668949   \n",
       "\n",
       "      trend_upper  additive_terms  additive_terms_lower  additive_terms_upper  \\\n",
       "0      652.818811     -641.320365           -641.320365           -641.320365   \n",
       "1      653.329551     -648.587987           -648.587987           -648.587987   \n",
       "2      653.840291     -652.284289           -652.284289           -652.284289   \n",
       "3      654.352431     -630.636871           -630.636871           -630.636871   \n",
       "4      654.863171     -641.320365           -641.320365           -641.320365   \n",
       "..            ...             ...                   ...                   ...   \n",
       "267  34782.330953     -612.176989           -612.176989           -612.176989   \n",
       "268  35249.874658     -591.526264           -591.526264           -591.526264   \n",
       "269  35728.943274     -566.395219           -566.395219           -566.395219   \n",
       "270  36220.735160     -536.683157           -536.683157           -536.683157   \n",
       "271  36712.215759     -612.176989           -612.176989           -612.176989   \n",
       "\n",
       "         yearly  yearly_lower  yearly_upper  multiplicative_terms  \\\n",
       "0   -641.320365   -641.320365   -641.320365                   0.0   \n",
       "1   -648.587987   -648.587987   -648.587987                   0.0   \n",
       "2   -652.284289   -652.284289   -652.284289                   0.0   \n",
       "3   -630.636871   -630.636871   -630.636871                   0.0   \n",
       "4   -641.320365   -641.320365   -641.320365                   0.0   \n",
       "..          ...           ...           ...                   ...   \n",
       "267 -612.176989   -612.176989   -612.176989                   0.0   \n",
       "268 -591.526264   -591.526264   -591.526264                   0.0   \n",
       "269 -566.395219   -566.395219   -566.395219                   0.0   \n",
       "270 -536.683157   -536.683157   -536.683157                   0.0   \n",
       "271 -612.176989   -612.176989   -612.176989                   0.0   \n",
       "\n",
       "     multiplicative_terms_lower  multiplicative_terms_upper          yhat  \n",
       "0                           0.0                         0.0     11.498446  \n",
       "1                           0.0                         0.0      4.741564  \n",
       "2                           0.0                         0.0      1.556002  \n",
       "3                           0.0                         0.0     23.715560  \n",
       "4                           0.0                         0.0     13.542806  \n",
       "..                          ...                         ...           ...  \n",
       "267                         0.0                         0.0  33525.060800  \n",
       "268                         0.0                         0.0  33960.704961  \n",
       "269                         0.0                         0.0  34400.829442  \n",
       "270                         0.0                         0.0  34845.534940  \n",
       "271                         0.0                         0.0  35186.171513  \n",
       "\n",
       "[272 rows x 16 columns]"
      ]
     },
     "execution_count": 23,
     "metadata": {},
     "output_type": "execute_result"
    }
   ],
   "source": [
    "forecast"
   ]
  },
  {
   "cell_type": "markdown",
   "id": "cd13ec40",
   "metadata": {},
   "source": [
    "#### Check performance of the model with test data"
   ]
  },
  {
   "cell_type": "code",
   "execution_count": 24,
   "id": "75b13ca1",
   "metadata": {},
   "outputs": [
    {
     "name": "stdout",
     "output_type": "stream",
     "text": [
      "RMSE: 2257\n"
     ]
    }
   ],
   "source": [
    "from statsmodels.tools.eval_measures import rmse\n",
    "\n",
    "predictions = forecast.iloc[-len(test):]['yhat']\n",
    "actuals = test['y']\n",
    "\n",
    "print(f\"RMSE: {round(rmse(predictions, actuals))}\")"
   ]
  },
  {
   "cell_type": "code",
   "execution_count": 25,
   "id": "c576f215",
   "metadata": {},
   "outputs": [
    {
     "data": {
      "text/plain": [
       "32558.46530236363"
      ]
     },
     "execution_count": 25,
     "metadata": {},
     "output_type": "execute_result"
    }
   ],
   "source": [
    "actuals.mean()"
   ]
  },
  {
   "cell_type": "markdown",
   "id": "d8bdef94",
   "metadata": {},
   "source": [
    "#### Check performance of the model with our train data"
   ]
  },
  {
   "cell_type": "code",
   "execution_count": 26,
   "id": "f5cbd809",
   "metadata": {},
   "outputs": [
    {
     "name": "stdout",
     "output_type": "stream",
     "text": [
      "RMSE: 404\n"
     ]
    }
   ],
   "source": [
    "from statsmodels.tools.eval_measures import rmse\n",
    "\n",
    "predictions = forecast.iloc[:len(train)]['yhat']\n",
    "actuals = train['y']\n",
    "\n",
    "print(f\"RMSE: {round(rmse(predictions, actuals))}\")"
   ]
  },
  {
   "cell_type": "code",
   "execution_count": 27,
   "id": "93168e00",
   "metadata": {},
   "outputs": [
    {
     "data": {
      "text/plain": [
       "4082.5751706799997"
      ]
     },
     "execution_count": 27,
     "metadata": {},
     "output_type": "execute_result"
    }
   ],
   "source": [
    "actuals.mean()"
   ]
  }
 ],
 "metadata": {
  "kernelspec": {
   "display_name": "Python 3 (ipykernel)",
   "language": "python",
   "name": "python3"
  },
  "language_info": {
   "codemirror_mode": {
    "name": "ipython",
    "version": 3
   },
   "file_extension": ".py",
   "mimetype": "text/x-python",
   "name": "python",
   "nbconvert_exporter": "python",
   "pygments_lexer": "ipython3",
   "version": "3.10.1"
  }
 },
 "nbformat": 4,
 "nbformat_minor": 5
}
